{
 "cells": [
  {
   "cell_type": "code",
   "execution_count": 1,
   "metadata": {},
   "outputs": [],
   "source": [
    "%reset -s -f\n",
    "%load_ext autoreload\n",
    "%autoreload 2"
   ]
  },
  {
   "cell_type": "code",
   "execution_count": 5,
   "metadata": {},
   "outputs": [],
   "source": [
    "import sys \n",
    "sys.path.append(\"./../\")\n",
    "import pandas as  pd"
   ]
  },
  {
   "cell_type": "code",
   "execution_count": 39,
   "metadata": {},
   "outputs": [],
   "source": [
    "\n",
    "\n",
    "toydata = dict(\n",
    "    cola=[1,1,1,1,3,2,3,5],\n",
    "    colb=[3,1,3,1,2,2,4,4],\n",
    "    colc=[3,1,3,3,2,2,4,4],\n",
    "    target=[\"a\",\"b\",\"a\",\"b\",\"c\",\"a\",\"c\",\"b\"]\n",
    ")\n",
    "df1 = pd.DataFrame(toydata)\n"
   ]
  },
  {
   "cell_type": "code",
   "execution_count": 7,
   "metadata": {},
   "outputs": [],
   "source": [
    "from src.node import get_weighted_gini_impurity , make_gini_attributes , get_min_giniattributes\n"
   ]
  },
  {
   "cell_type": "code",
   "execution_count": 42,
   "metadata": {},
   "outputs": [
    {
     "name": "stdout",
     "output_type": "stream",
     "text": [
      "{'age': 0.5785714285714285, 'default': 0.6412698412698412, 'student': 0.5306122448979592, 'credit_rate': 0.6369047619047619}\n",
      "student\n"
     ]
    }
   ],
   "source": [
    "attribute_names =  ['age', 'income','student', 'credit_rate']\n",
    "class_name = 'default'\n",
    "data1 ={\n",
    "    'age' : ['youth', 'youth', 'middle_age', 'senior', 'senior', 'senior','middle_age', 'youth', 'youth', 'senior', 'youth', 'middle_age','middle_age', 'senior'],\n",
    "    'income' : ['high', 'high', 'high', 'medium', 'low', 'low', 'low', 'medium','low', 'medium', 'medium', 'medium', 'high', 'medium'],\n",
    "    'student' : ['no','no','no','no','yes','yes','yes','no','yes','yes','yes','no','yes','no'],\n",
    "    'credit_rate' : ['fair', 'excellent', 'fair', 'fair', 'fair', 'excellent', 'excellent', 'fair', 'fair', 'fair','excellent', 'excellent', 'fair', 'excellent'],\n",
    "    'default' : ['no', 'no', 'yes', 'yes', 'yes', 'no', 'yes', 'no', 'yes', 'yes','yes', 'yes', 'yes', 'no']\n",
    "}\n",
    "df1 = pd.DataFrame (data1, columns=data1.keys())\n",
    "\n",
    "\n",
    "target_col = \"income\"\n",
    "cols = ['age', 'default','student', 'credit_rate']\n",
    "result = make_gini_attributes(df1 , cols =cols,target_col=target_col)\n",
    "print(result)\n",
    "select_col = get_min_giniattributes(result)[0]\n",
    "print(select_col)"
   ]
  },
  {
   "cell_type": "code",
   "execution_count": 43,
   "metadata": {},
   "outputs": [
    {
     "data": {
      "text/plain": [
       "'student'"
      ]
     },
     "execution_count": 43,
     "metadata": {},
     "output_type": "execute_result"
    }
   ],
   "source": [
    "select_col"
   ]
  },
  {
   "cell_type": "code",
   "execution_count": 44,
   "metadata": {},
   "outputs": [
    {
     "data": {
      "text/plain": [
       "student  income\n",
       "no       high      3\n",
       "         medium    4\n",
       "yes      high      1\n",
       "         low       4\n",
       "         medium    2\n",
       "dtype: int64"
      ]
     },
     "execution_count": 44,
     "metadata": {},
     "output_type": "execute_result"
    }
   ],
   "source": [
    "df1.groupby([select_col,target_col]).size()"
   ]
  },
  {
   "cell_type": "code",
   "execution_count": 45,
   "metadata": {},
   "outputs": [
    {
     "name": "stdout",
     "output_type": "stream",
     "text": [
      "['no' 'yes']\n"
     ]
    }
   ],
   "source": [
    "#df1[]\n",
    "print(df1[select_col].unique())\n"
   ]
  },
  {
   "cell_type": "code",
   "execution_count": 48,
   "metadata": {},
   "outputs": [
    {
     "name": "stdout",
     "output_type": "stream",
     "text": [
      "{'age': 0.3333333333333333, 'default': 0.47619047619047616, 'credit_rate': 0.47619047619047616}\n",
      "age\n"
     ]
    }
   ],
   "source": [
    "#cols = ['age', 'default', 'credit_rate']\n",
    "\n",
    "selected_df1 = df1.query(\"student == 'no'\")\n",
    "\n",
    "result = make_gini_attributes(selected_df1 , cols = ['age', 'default', 'credit_rate'],target_col=target_col)\n",
    "print(result)\n",
    "select_col = get_min_giniattributes(result)[0]\n",
    "print(select_col)\n",
    "if get_min_giniattributes(result)[1] == 0.0 :\n",
    "    print(\"finish split\")"
   ]
  },
  {
   "cell_type": "code",
   "execution_count": 52,
   "metadata": {},
   "outputs": [
    {
     "name": "stdout",
     "output_type": "stream",
     "text": [
      "{'default': 0.4444444444444444, 'credit_rate': 0.3333333333333333}\n",
      "credit_rate\n"
     ]
    }
   ],
   "source": [
    "selected_df1 = df1.query(\"student == 'no'\")\n",
    "\n",
    "list(selected_df1[\"age\"].unique())\n",
    "\n",
    "\n",
    "selected_df2 = df1.query(\"student == 'no' & age == 'youth'\")\n",
    "result = make_gini_attributes(selected_df2 , cols = ['default', 'credit_rate'],target_col=target_col)\n",
    "print(result)\n",
    "select_col = get_min_giniattributes(result)[0]\n",
    "print(select_col)\n",
    "if get_min_giniattributes(result)[1] == 0.0 :\n",
    "    print(\"finish split\")\n",
    "\n"
   ]
  },
  {
   "cell_type": "code",
   "execution_count": 36,
   "metadata": {},
   "outputs": [
    {
     "data": {
      "text/plain": [
       "target\n",
       "a    {'colb': [3]}\n",
       "b    {'colb': [1]}\n",
       "dtype: object"
      ]
     },
     "execution_count": 36,
     "metadata": {},
     "output_type": "execute_result"
    }
   ],
   "source": [
    "import numpy as np\n",
    "selected_df1['colb'].unique().tolist()\n",
    "selected_df1.groupby(['target']).apply(lambda x : {\"colb\" : list(np.unique(x['colb']))})"
   ]
  },
  {
   "cell_type": "code",
   "execution_count": 38,
   "metadata": {},
   "outputs": [
    {
     "data": {
      "text/html": [
       "<div>\n",
       "<style scoped>\n",
       "    .dataframe tbody tr th:only-of-type {\n",
       "        vertical-align: middle;\n",
       "    }\n",
       "\n",
       "    .dataframe tbody tr th {\n",
       "        vertical-align: top;\n",
       "    }\n",
       "\n",
       "    .dataframe thead th {\n",
       "        text-align: right;\n",
       "    }\n",
       "</style>\n",
       "<table border=\"1\" class=\"dataframe\">\n",
       "  <thead>\n",
       "    <tr style=\"text-align: right;\">\n",
       "      <th></th>\n",
       "      <th>cola</th>\n",
       "      <th>colb</th>\n",
       "      <th>colc</th>\n",
       "      <th>target</th>\n",
       "    </tr>\n",
       "  </thead>\n",
       "  <tbody>\n",
       "    <tr>\n",
       "      <th>5</th>\n",
       "      <td>2</td>\n",
       "      <td>2</td>\n",
       "      <td>2</td>\n",
       "      <td>a</td>\n",
       "    </tr>\n",
       "  </tbody>\n",
       "</table>\n",
       "</div>"
      ],
      "text/plain": [
       "   cola  colb  colc target\n",
       "5     2     2     2      a"
      ]
     },
     "execution_count": 38,
     "metadata": {},
     "output_type": "execute_result"
    }
   ],
   "source": [
    "selected_df1"
   ]
  },
  {
   "cell_type": "code",
   "execution_count": 139,
   "metadata": {},
   "outputs": [],
   "source": []
  },
  {
   "cell_type": "code",
   "execution_count": 140,
   "metadata": {},
   "outputs": [],
   "source": [
    "from sklearn.model_selection import ParameterGrid\n",
    "\n",
    "ASET = dict(\n",
    "    cola = [\"A\"],\n",
    "    colb = [1,2,3],\n",
    "    colc = [\"a\",\"c\"]\n",
    ")\n",
    "BSET = dict(\n",
    "    cola = [\"A\"],\n",
    "    colb = [2,3,4,5],\n",
    "    colc = [\"b\",\"d\"]\n",
    ")\n",
    "CSET = dict(\n",
    "    cola = [\"C\"],\n",
    "    colb = [1,4],\n",
    "    colc = [\"a\",\"b\"]\n",
    ")\n",
    "DSET = dict(\n",
    "    cola = [\"B\"],\n",
    "    colb = [1,2],\n",
    "    colc = [\"e\",\"b\"]\n",
    ")\n",
    "ESET = dict(\n",
    "    cola = [\"B\"],\n",
    "    colb = [1,2],\n",
    "    colc = [\"a\",\"d\"]\n",
    ")\n",
    "\n",
    "\n",
    "RESULT = []\n",
    "RESULT.extend(list(ParameterGrid(ASET)))\n",
    "RESULT.extend(list(ParameterGrid(BSET)))\n",
    "RESULT.extend(list(ParameterGrid(CSET)))\n",
    "RESULT.extend(list(ParameterGrid(DSET)))\n",
    "RESULT.extend(list(ParameterGrid(ESET)))\n",
    "def find_unique_dict(RESULT) :\n",
    "    RESULT = list(map(dict, set(tuple(sorted(d.items())) for d in RESULT)))\n",
    "    return RESULT\n",
    "from collections import Counter\n",
    "assert len(find_unique_dict(RESULT)) == len(RESULT)\n",
    "comb = pd.DataFrame()\n",
    "df = pd.DataFrame(list(ParameterGrid(ASET)))\n",
    "df[\"target\"] = \"aa\"\n",
    "comb = pd.concat([comb,df],axis=0)\n",
    "df = pd.DataFrame(list(ParameterGrid(BSET)))\n",
    "df[\"target\"] = \"bb\"\n",
    "comb = pd.concat([comb,df],axis=0)\n",
    "df = pd.DataFrame(list(ParameterGrid(CSET)))\n",
    "df[\"target\"] = \"cc\"\n",
    "comb = pd.concat([comb,df],axis=0)\n",
    "df = pd.DataFrame(list(ParameterGrid(DSET)))\n",
    "df[\"target\"] = \"dd\"\n",
    "comb = pd.concat([comb,df],axis=0)\n",
    "df = pd.DataFrame(list(ParameterGrid(ESET)))\n",
    "df[\"target\"] = \"ee\"\n",
    "comb = pd.concat([comb,df],axis=0)\n",
    "comb = comb.reset_index(drop=True)\n",
    "comb"
   ]
  },
  {
   "cell_type": "code",
   "execution_count": 185,
   "metadata": {},
   "outputs": [
    {
     "name": "stdout",
     "output_type": "stream",
     "text": [
      "---\n",
      "{'aa': {'colc': ['a', 'c'], 'cola': ['A']}, 'bb': {'colc': ['b', 'd'], 'cola': ['A']}}\n",
      "---\n",
      "---\n",
      "{'cc': {'colc': ['a', 'b'], 'cola': ['C']}}\n",
      "---\n",
      "---\n",
      "{'cc': {'colb': [1, 4], 'cola': ['C']}}\n",
      "---\n",
      "---\n",
      "{'dd': {'colc': ['e', 'b'], 'cola': ['B']}, 'ee': {'colc': ['a', 'd'], 'cola': ['B']}}\n",
      "---\n"
     ]
    }
   ],
   "source": [
    "def fit(comb , cols , target_col, previous_condition=[]) :\n",
    "    result = make_gini_attributes(comb , cols =cols,target_col=target_col)\n",
    "    select_col = get_min_giniattributes(result)[0]\n",
    "    minthreshold = get_min_giniattributes(result)[1]\n",
    "    \n",
    "    find_pure_result = dict(filter(lambda x : x[1] == 0.0 , result.items()))\n",
    "    if len(find_pure_result) == 0 :\n",
    "        select_candidate = list(comb[select_col].unique())\n",
    "        qs = [f\"{select_col} == '{i}'\" for i in select_candidate]        \n",
    "        qs_dict = [{select_col : [i]} for i in select_candidate]        \n",
    "        \n",
    "        _cols = cols \n",
    "        for idx , q in enumerate(qs) :\n",
    "            _comb = comb.query(q)\n",
    "            _cols = list(set(_cols).difference(set([select_col])))\n",
    "            previous_condition.append(qs_dict[idx])\n",
    "            fit(_comb , _cols , target_col,previous_condition)\n",
    "    else :\n",
    "        for select_col, gini_impurity in find_pure_result.items() : \n",
    "            r = comb.groupby([target_col]).apply(lambda x : {select_col:list(x[select_col].unique())})\n",
    "            r= r.to_dict()\n",
    "            for k , v in r.items() :\n",
    "                for cond in previous_condition:\n",
    "                    v.update(cond)\n",
    "            print(\"---\")\n",
    "            print(r)\n",
    "            print(\"---\")\n",
    "        else :\n",
    "            del previous_condition[-1]\n",
    "\n",
    "fit(comb , cols ,\"target\")\n",
    "\n",
    "target_aa = dict(cola=[\"A\"],colc=[\"a\",\"c\"])\n",
    "target_bb = dict(cola=[\"A\"],colc=[\"b\",\"d\"])\n",
    "target_cc = dict(cola=[\"C\"],colc=[\"a\",\"b\"])\n",
    "target_cc = dict(cola=[\"C\"],colb=[1,4])\n",
    "target_dd = dict(cola=[\"B\"],colb=[1,2])\n",
    "target_dd = dict(cola=[\"B\"],colc=[\"e\",\"b\"])\n",
    "target_ee = dict(cola=[\"B\"],colc=[\"a\",\"d\"])"
   ]
  },
  {
   "cell_type": "code",
   "execution_count": 473,
   "metadata": {},
   "outputs": [
    {
     "name": "stdout",
     "output_type": "stream",
     "text": [
      "check target index\n",
      "aa\n",
      "\tTrue\n",
      "bb\n",
      "\tTrue\n",
      "cc\n",
      "\tTrue\n",
      "dd\n",
      "\tTrue\n",
      "ee\n",
      "\tTrue\n",
      "use_col_list\n",
      "\t['cola', 'colc', 'colb']\n",
      "condition\n",
      "\taa\n",
      "\t\t[{'colc': ['a', 'c'], 'cola': ['A']}]\n",
      "\tbb\n",
      "\t\t[{'colc': ['b', 'd'], 'cola': ['A']}]\n",
      "\tcc\n",
      "\t\t[{'colc': ['a', 'b'], 'cola': ['C']}]\n",
      "\tdd\n",
      "\t\t[{'colb': [1, 2], 'cola': ['B']}]\n",
      "\tee\n",
      "\t\t[{'colb': [3, 4], 'cola': ['B']}]\n",
      "{'use_col_list': ['cola', 'colc', 'colb'], 'condition': {'aa': [{'colc': ['a', 'c'], 'cola': ['A']}], 'bb': [{'colc': ['b', 'd'], 'cola': ['A']}], 'cc': [{'colc': ['a', 'b'], 'cola': ['C']}], 'dd': [{'colb': [1, 2], 'cola': ['B']}], 'ee': [{'colb': [3, 4], 'cola': ['B']}]}}\n"
     ]
    }
   ],
   "source": [
    "from re import I\n",
    "from sklearn.model_selection import ParameterGrid\n",
    "\n",
    "ASET = dict(\n",
    "    cola = [\"A\"],\n",
    "    colb = [1,2,3],\n",
    "    colc = [\"a\",\"c\"],\n",
    "    cold = [\"#\",\"###\"]\n",
    ")\n",
    "BSET = dict(\n",
    "    cola = [\"A\"],\n",
    "    colb = [2,3,4,5],\n",
    "    colc = [\"b\",\"d\"],\n",
    "        cold = [\"#\",\"###\"]\n",
    "\n",
    ")\n",
    "CSET = dict(\n",
    "    cola = [\"C\"],\n",
    "    colb = [1,4],\n",
    "    colc = [\"a\",\"b\"],\n",
    "        cold = [\"#\",\"###\"]\n",
    "\n",
    ")\n",
    "DSET = dict(\n",
    "    cola = [\"B\"],\n",
    "    colb = [1,2],\n",
    "    colc = [\"e\",\"b\"],\n",
    "    cold = [\"#\",\"###\"]\n",
    "\n",
    ")\n",
    "ESET = dict(\n",
    "    cola = [\"B\"],\n",
    "    colb = [3,4],\n",
    "    colc = [\"a\",\"b\"],\n",
    "    cold = [\"#\",\"###\"]\n",
    "\n",
    ")\n",
    "\n",
    "\n",
    "RESULT = []\n",
    "RESULT.extend(list(ParameterGrid(ASET)))\n",
    "RESULT.extend(list(ParameterGrid(BSET)))\n",
    "RESULT.extend(list(ParameterGrid(CSET)))\n",
    "RESULT.extend(list(ParameterGrid(DSET)))\n",
    "RESULT.extend(list(ParameterGrid(ESET)))\n",
    "def find_unique_dict(RESULT) :\n",
    "    RESULT = list(map(dict, set(tuple(sorted(d.items())) for d in RESULT)))\n",
    "    return RESULT\n",
    "from collections import Counter\n",
    "# assert len(find_unique_dict(RESULT)) == len(RESULT)\n",
    "comb = pd.DataFrame()\n",
    "df = pd.DataFrame(list(ParameterGrid(ASET)))\n",
    "df[\"target\"] = \"aa\"\n",
    "comb = pd.concat([comb,df],axis=0)\n",
    "df = pd.DataFrame(list(ParameterGrid(BSET)))\n",
    "df[\"target\"] = \"bb\"\n",
    "comb = pd.concat([comb,df],axis=0)\n",
    "df = pd.DataFrame(list(ParameterGrid(CSET)))\n",
    "df[\"target\"] = \"cc\"\n",
    "comb = pd.concat([comb,df],axis=0)\n",
    "df = pd.DataFrame(list(ParameterGrid(DSET)))\n",
    "df[\"target\"] = \"dd\"\n",
    "comb = pd.concat([comb,df],axis=0)\n",
    "df = pd.DataFrame(list(ParameterGrid(ESET)))\n",
    "df[\"target\"] = \"ee\"\n",
    "comb = pd.concat([comb,df],axis=0)\n",
    "comb = comb.reset_index(drop=True)\n",
    "comb\n",
    "\n",
    "class SeperateCode(object) :\n",
    "    def __init__(self,) :\n",
    "        pass\n",
    "\n",
    "    def make_where_query(self,condition_list:dict) :\n",
    "        total_q = []\n",
    "        for k , v in condition_list.items() :\n",
    "            if len(v) == 1 :\n",
    "                q = f\"{k} == '{v[0]}'\" \n",
    "            else :\n",
    "                _comb = list(v)\n",
    "                q = f\"{k} in {_comb}\"\n",
    "            total_q.append(q)\n",
    "        else :\n",
    "            total_q = \" and \".join([f\"({i})\" for i in total_q])\n",
    "        return total_q\n",
    "\n",
    "    def print_pretty(self , d ,indent=0) :\n",
    "        for key, value in d.items():\n",
    "            print('\\t' * indent + str(key))\n",
    "            if isinstance(value, dict):\n",
    "                self.print_pretty(value, indent+1)\n",
    "            else:\n",
    "                print('\\t' * (indent+1) + str(value))\n",
    "\n",
    "    def initialize(self,comb,target_col) :\n",
    "        self._comb = comb\n",
    "        self._target_index_dict_list = comb.groupby([target_col]).apply(lambda x : x.index.tolist()).to_dict()\n",
    "        self.collection = []\n",
    "        del self.collection[:]\n",
    "        self._target_idx_list = {k : [] for k , v in self._target_index_dict_list.items()}\n",
    "        self._target_list = comb[target_col].unique().tolist()\n",
    "\n",
    "    def check_target_index_equal(self) :\n",
    "        check_target = dict()\n",
    "        for col in list(self._target_idx_list.keys()) :\n",
    "            check_target[col] = len(self._target_idx_list[col]) == len(self._target_index_dict_list[col])\n",
    "        else :\n",
    "            print(\"check target index\")\n",
    "            self.print_pretty(check_target)\n",
    "        if any([True for i in list(check_target.values()) if i == False]) :\n",
    "            raise Exception(\"해당 컬럼으로 분리할 수 없음\")\n",
    "\n",
    "\n",
    "    # def find_use_col(self) :\n",
    "    #     use_col = []\n",
    "    #     for i in self.collection :\n",
    "    #         for k , v in i.items() :\n",
    "    #             use_col.extend(list(v.keys()))\n",
    "    #     else :\n",
    "    #         use_col = list(set(use_col))\n",
    "    #     return use_col\n",
    "\n",
    "    def get_condition(self,verbose= True) :\n",
    "        self.check_target_index_equal()\n",
    "        \n",
    "        target_q = {i : [] for i in self._target_list}\n",
    "        target_q_unique_list = {i : [] for i in self._target_list}\n",
    "        target_q_unique_list_cond = {i : [] for i in self._target_list}\n",
    "        for d in self.collection :\n",
    "            for k , v in d.items() :\n",
    "                target_q[k].append(v)\n",
    "        for target , v in target_q.items() :\n",
    "            result = []\n",
    "            for i in v : \n",
    "                q = self.make_where_query(i)\n",
    "                target_idx = self._comb.query(q).index.tolist()\n",
    "                if any([True for i in target_idx if i in target_q_unique_list[target] ]) :        \n",
    "                    continue \n",
    "                else :    \n",
    "                    target_q_unique_list_cond[target].append(i)\n",
    "                    target_q_unique_list[target].extend(target_idx)    \n",
    "        use_col_list = self._find_use_col(target_q_unique_list_cond)\n",
    "        result = dict(use_col_list = use_col_list , condition = target_q_unique_list_cond)\n",
    "        if verbose :\n",
    "            self.print_pretty(result )\n",
    "        return result \n",
    "    \n",
    "    def _find_use_col(self, target_condition) :\n",
    "        use_col = []\n",
    "        for k, conds in target_condition.items() :\n",
    "            for cond in conds :\n",
    "                use_col.extend(list(cond.keys()))\n",
    "        else :\n",
    "            use_col = list(set(use_col))\n",
    "        return use_col\n",
    "\n",
    "\n",
    "    def fit(self,comb , cols , target_col, previous_condition=[]) :\n",
    "        if len(cols) == 0 :\n",
    "            return print(\"Failed\")\n",
    "        result = make_gini_attributes(comb , cols =cols,target_col=target_col)\n",
    "        \n",
    "        select_col = get_min_giniattributes(result)[0]\n",
    "        minthreshold = get_min_giniattributes(result)[1]\n",
    "        \n",
    "        find_pure_result = dict(filter(lambda x : x[1] == 0.0 , result.items()))\n",
    "        if len(find_pure_result) == 0 :\n",
    "            select_candidate = list(comb[select_col].unique())\n",
    "            qs = [f\"{select_col} == '{i}'\" for i in select_candidate]        \n",
    "            qs_dict = [{select_col : [i]} for i in select_candidate]        \n",
    "            \n",
    "            _cols = cols \n",
    "            for idx , q in enumerate(qs) :\n",
    "                _comb = comb.query(q)\n",
    "                _cols = list(set(_cols).difference(set([select_col])))\n",
    "                previous_condition.append(qs_dict[idx])\n",
    "                self.fit(_comb , _cols , target_col,previous_condition)\n",
    "        else :\n",
    "            for select_col, gini_impurity in find_pure_result.items() : \n",
    "                r = comb.groupby([target_col]).apply(lambda x : {select_col:list(x[select_col].unique())})\n",
    "                \n",
    "                r= r.to_dict()\n",
    "                for k , v in r.items() :\n",
    "                    for cond in previous_condition:\n",
    "                        v.update(cond)\n",
    "                \n",
    "                self.collection.append(r)\n",
    "                final_result = []\n",
    "                for k , i in r.items() :\n",
    "                    q = self.make_where_query(i)\n",
    "                    _result = comb.query(q)\n",
    "                    result:pd.DataFrame = _result.groupby([target_col]).apply(lambda x : x.index.tolist())\n",
    "                    if result.empty()\n",
    "                    if len(result) == 0 :\n",
    "                        print(\"\")\n",
    "                        continue\n",
    "                    for k, v in result.to_dict().items() :\n",
    "                        self._target_idx_list[k] = sorted(list(set(v) | set(self._target_idx_list[k])))\n",
    "            else :\n",
    "                del previous_condition[-1]\n",
    "\n",
    "cols = [\"cola\",\"colb\",\"colc\",\"cold\"]\n",
    "sc = SeperateCode()\n",
    "sc.initialize(comb, target_col)\n",
    "sc.fit(comb , cols ,\"target\")\n",
    "# print(sc.find_condition())\n",
    "print(sc.get_condition())\n",
    "# print(sc.find_use_col())\n",
    "\n",
    "target_aa = dict(cola=[\"A\"],colc=[\"a\",\"c\"])\n",
    "target_bb = dict(cola=[\"A\"],colc=[\"b\",\"d\"])\n",
    "target_cc = dict(cola=[\"C\"],colc=[\"a\",\"b\"])\n",
    "target_cc = dict(cola=[\"C\"],colb=[1,4])\n",
    "target_dd = dict(cola=[\"B\"],colb=[1,2])\n",
    "target_dd = dict(cola=[\"B\"],colc=[\"e\",\"b\"])\n",
    "target_ee = dict(cola=[\"B\"],colc=[\"a\",\"d\"])"
   ]
  },
  {
   "cell_type": "code",
   "execution_count": 474,
   "metadata": {},
   "outputs": [
    {
     "name": "stdout",
     "output_type": "stream",
     "text": [
      "[{'no': {'student': ['no'], 'age': ['youth']}, 'yes': {'student': ['yes'], 'age': ['youth']}}, {'yes': {'student': ['no', 'yes'], 'age': ['middle_age']}}, {'yes': {'credit_rate': ['fair', 'excellent'], 'age': ['middle_age']}}, {'yes': {'income': ['high', 'low', 'medium'], 'age': ['middle_age']}}, {'no': {'credit_rate': ['excellent'], 'age': ['senior']}, 'yes': {'credit_rate': ['fair'], 'age': ['senior']}}]\n"
     ]
    }
   ],
   "source": [
    "\n",
    "attribute_names =  ['age', 'income','student', 'credit_rate']\n",
    "class_name = 'default'\n",
    "data1 ={\n",
    "    'age' : ['youth', 'youth', 'middle_age', 'senior', 'senior', 'senior','middle_age', 'youth', 'youth', 'senior', 'youth', 'middle_age','middle_age', 'senior'],\n",
    "    'income' : ['high', 'high', 'high', 'medium', 'low', 'low', 'low', 'medium','low', 'medium', 'medium', 'medium', 'high', 'medium'],\n",
    "    'student' : ['no','no','no','no','yes','yes','yes','no','yes','yes','yes','no','yes','no'],\n",
    "    'credit_rate' : ['fair', 'excellent', 'fair', 'fair', 'fair', 'excellent', 'excellent', 'fair', 'fair', 'fair','excellent', 'excellent', 'fair', 'excellent'],\n",
    "    'default' : ['no', 'no', 'yes', 'yes', 'yes', 'no', 'yes', 'no', 'yes', 'yes','yes', 'yes', 'yes', 'no']\n",
    "}\n",
    "df1 = pd.DataFrame (data1, columns=data1.keys())\n",
    "sc = SeperateCode()\n",
    "sc.initialize(df1,class_name)\n",
    "sc.fit(df1 , attribute_names ,class_name)\n",
    "print(sc.collection)\n",
    "#print(sc.get_condition())\n"
   ]
  },
  {
   "cell_type": "code",
   "execution_count": 475,
   "metadata": {},
   "outputs": [
    {
     "data": {
      "text/html": [
       "<div>\n",
       "<style scoped>\n",
       "    .dataframe tbody tr th:only-of-type {\n",
       "        vertical-align: middle;\n",
       "    }\n",
       "\n",
       "    .dataframe tbody tr th {\n",
       "        vertical-align: top;\n",
       "    }\n",
       "\n",
       "    .dataframe thead th {\n",
       "        text-align: right;\n",
       "    }\n",
       "</style>\n",
       "<table border=\"1\" class=\"dataframe\">\n",
       "  <thead>\n",
       "    <tr style=\"text-align: right;\">\n",
       "      <th></th>\n",
       "      <th>no</th>\n",
       "      <th>yes</th>\n",
       "    </tr>\n",
       "  </thead>\n",
       "  <tbody>\n",
       "    <tr>\n",
       "      <th>0</th>\n",
       "      <td>{'student': ['no'], 'age': ['youth']}</td>\n",
       "      <td>{'student': ['yes'], 'age': ['youth']}</td>\n",
       "    </tr>\n",
       "    <tr>\n",
       "      <th>1</th>\n",
       "      <td>NaN</td>\n",
       "      <td>{'student': ['no', 'yes'], 'age': ['middle_age']}</td>\n",
       "    </tr>\n",
       "    <tr>\n",
       "      <th>2</th>\n",
       "      <td>NaN</td>\n",
       "      <td>{'credit_rate': ['fair', 'excellent'], 'age': ...</td>\n",
       "    </tr>\n",
       "    <tr>\n",
       "      <th>3</th>\n",
       "      <td>NaN</td>\n",
       "      <td>{'income': ['high', 'low', 'medium'], 'age': [...</td>\n",
       "    </tr>\n",
       "    <tr>\n",
       "      <th>4</th>\n",
       "      <td>{'credit_rate': ['excellent'], 'age': ['senior']}</td>\n",
       "      <td>{'credit_rate': ['fair'], 'age': ['senior']}</td>\n",
       "    </tr>\n",
       "  </tbody>\n",
       "</table>\n",
       "</div>"
      ],
      "text/plain": [
       "                                                  no  \\\n",
       "0              {'student': ['no'], 'age': ['youth']}   \n",
       "1                                                NaN   \n",
       "2                                                NaN   \n",
       "3                                                NaN   \n",
       "4  {'credit_rate': ['excellent'], 'age': ['senior']}   \n",
       "\n",
       "                                                 yes  \n",
       "0             {'student': ['yes'], 'age': ['youth']}  \n",
       "1  {'student': ['no', 'yes'], 'age': ['middle_age']}  \n",
       "2  {'credit_rate': ['fair', 'excellent'], 'age': ...  \n",
       "3  {'income': ['high', 'low', 'medium'], 'age': [...  \n",
       "4       {'credit_rate': ['fair'], 'age': ['senior']}  "
      ]
     },
     "execution_count": 475,
     "metadata": {},
     "output_type": "execute_result"
    }
   ],
   "source": [
    "pd.DataFrame(sc.collection)"
   ]
  },
  {
   "cell_type": "code",
   "execution_count": 476,
   "metadata": {},
   "outputs": [
    {
     "name": "stdout",
     "output_type": "stream",
     "text": [
      "check target index\n",
      "no\n",
      "\tTrue\n",
      "yes\n",
      "\tTrue\n",
      "use_col_list\n",
      "\t['student', 'age', 'credit_rate']\n",
      "condition\n",
      "\tno\n",
      "\t\t[{'student': ['no'], 'age': ['youth']}, {'credit_rate': ['excellent'], 'age': ['senior']}]\n",
      "\tyes\n",
      "\t\t[{'student': ['yes'], 'age': ['youth']}, {'student': ['no', 'yes'], 'age': ['middle_age']}, {'credit_rate': ['fair'], 'age': ['senior']}]\n",
      "{'use_col_list': ['student', 'age', 'credit_rate'], 'condition': {'no': [{'student': ['no'], 'age': ['youth']}, {'credit_rate': ['excellent'], 'age': ['senior']}], 'yes': [{'student': ['yes'], 'age': ['youth']}, {'student': ['no', 'yes'], 'age': ['middle_age']}, {'credit_rate': ['fair'], 'age': ['senior']}]}}\n"
     ]
    }
   ],
   "source": [
    "\n",
    "print(sc.get_condition())"
   ]
  },
  {
   "cell_type": "code",
   "execution_count": 477,
   "metadata": {},
   "outputs": [
    {
     "data": {
      "text/plain": [
       "{'no': [0, 1, 5, 7, 13], 'yes': [2, 3, 4, 6, 8, 9, 10, 11, 12]}"
      ]
     },
     "execution_count": 477,
     "metadata": {},
     "output_type": "execute_result"
    }
   ],
   "source": [
    "\n",
    "sc._target_idx_list"
   ]
  },
  {
   "cell_type": "code",
   "execution_count": 478,
   "metadata": {},
   "outputs": [
    {
     "name": "stdout",
     "output_type": "stream",
     "text": [
      "{'middle_age': [], 'senior': [], 'youth': []}\n",
      "Failed\n",
      "Failed\n",
      "Failed\n",
      "Failed\n",
      "Failed\n",
      "Failed\n",
      "check target index\n",
      "middle_age\n",
      "\tFalse\n",
      "senior\n",
      "\tFalse\n",
      "youth\n",
      "\tFalse\n"
     ]
    },
    {
     "ename": "Exception",
     "evalue": "해당 컬럼으로 분리할 수 없음",
     "output_type": "error",
     "traceback": [
      "\u001b[0;31m---------------------------------------------------------------------------\u001b[0m",
      "\u001b[0;31mException\u001b[0m                                 Traceback (most recent call last)",
      "\u001b[1;32m/home/jovyan/local/1_user/srlee@agilesoda.ai/TIL/PyDetectCode/jupyter/test2.ipynb 셀 21\u001b[0m in \u001b[0;36m<cell line: 6>\u001b[0;34m()\u001b[0m\n\u001b[1;32m      <a href='vscode-notebook-cell://attached-container%2B7b22636f6e7461696e65724e616d65223a222f6a7570797465722d73726c65655f34306167696c65736f64615f32456169222c2273657474696e6773223a7b22686f7374223a227373683a2f2f43313031227d7d/home/jovyan/local/1_user/srlee%40agilesoda.ai/TIL/PyDetectCode/jupyter/test2.ipynb#Y111sdnNjb2RlLXJlbW90ZQ%3D%3D?line=3'>4</a>\u001b[0m \u001b[39mprint\u001b[39m(sc\u001b[39m.\u001b[39m_target_idx_list)\n\u001b[1;32m      <a href='vscode-notebook-cell://attached-container%2B7b22636f6e7461696e65724e616d65223a222f6a7570797465722d73726c65655f34306167696c65736f64615f32456169222c2273657474696e6773223a7b22686f7374223a227373683a2f2f43313031227d7d/home/jovyan/local/1_user/srlee%40agilesoda.ai/TIL/PyDetectCode/jupyter/test2.ipynb#Y111sdnNjb2RlLXJlbW90ZQ%3D%3D?line=4'>5</a>\u001b[0m sc\u001b[39m.\u001b[39mfit(df1 , attribute_names ,class_name)\n\u001b[0;32m----> <a href='vscode-notebook-cell://attached-container%2B7b22636f6e7461696e65724e616d65223a222f6a7570797465722d73726c65655f34306167696c65736f64615f32456169222c2273657474696e6773223a7b22686f7374223a227373683a2f2f43313031227d7d/home/jovyan/local/1_user/srlee%40agilesoda.ai/TIL/PyDetectCode/jupyter/test2.ipynb#Y111sdnNjb2RlLXJlbW90ZQ%3D%3D?line=5'>6</a>\u001b[0m \u001b[39mprint\u001b[39m(sc\u001b[39m.\u001b[39;49mget_condition())\n",
      "\u001b[1;32m/home/jovyan/local/1_user/srlee@agilesoda.ai/TIL/PyDetectCode/jupyter/test2.ipynb 셀 21\u001b[0m in \u001b[0;36mSeperateCode.get_condition\u001b[0;34m(self, verbose)\u001b[0m\n\u001b[1;32m    <a href='vscode-notebook-cell://attached-container%2B7b22636f6e7461696e65724e616d65223a222f6a7570797465722d73726c65655f34306167696c65736f64615f32456169222c2273657474696e6773223a7b22686f7374223a227373683a2f2f43313031227d7d/home/jovyan/local/1_user/srlee%40agilesoda.ai/TIL/PyDetectCode/jupyter/test2.ipynb#Y111sdnNjb2RlLXJlbW90ZQ%3D%3D?line=122'>123</a>\u001b[0m \u001b[39mdef\u001b[39;00m \u001b[39mget_condition\u001b[39m(\u001b[39mself\u001b[39m,verbose\u001b[39m=\u001b[39m \u001b[39mTrue\u001b[39;00m) :\n\u001b[0;32m--> <a href='vscode-notebook-cell://attached-container%2B7b22636f6e7461696e65724e616d65223a222f6a7570797465722d73726c65655f34306167696c65736f64615f32456169222c2273657474696e6773223a7b22686f7374223a227373683a2f2f43313031227d7d/home/jovyan/local/1_user/srlee%40agilesoda.ai/TIL/PyDetectCode/jupyter/test2.ipynb#Y111sdnNjb2RlLXJlbW90ZQ%3D%3D?line=123'>124</a>\u001b[0m     \u001b[39mself\u001b[39;49m\u001b[39m.\u001b[39;49mcheck_target_index_equal()\n\u001b[1;32m    <a href='vscode-notebook-cell://attached-container%2B7b22636f6e7461696e65724e616d65223a222f6a7570797465722d73726c65655f34306167696c65736f64615f32456169222c2273657474696e6773223a7b22686f7374223a227373683a2f2f43313031227d7d/home/jovyan/local/1_user/srlee%40agilesoda.ai/TIL/PyDetectCode/jupyter/test2.ipynb#Y111sdnNjb2RlLXJlbW90ZQ%3D%3D?line=125'>126</a>\u001b[0m     target_q \u001b[39m=\u001b[39m {i : [] \u001b[39mfor\u001b[39;00m i \u001b[39min\u001b[39;00m \u001b[39mself\u001b[39m\u001b[39m.\u001b[39m_target_list}\n\u001b[1;32m    <a href='vscode-notebook-cell://attached-container%2B7b22636f6e7461696e65724e616d65223a222f6a7570797465722d73726c65655f34306167696c65736f64615f32456169222c2273657474696e6773223a7b22686f7374223a227373683a2f2f43313031227d7d/home/jovyan/local/1_user/srlee%40agilesoda.ai/TIL/PyDetectCode/jupyter/test2.ipynb#Y111sdnNjb2RlLXJlbW90ZQ%3D%3D?line=126'>127</a>\u001b[0m     target_q_unique_list \u001b[39m=\u001b[39m {i : [] \u001b[39mfor\u001b[39;00m i \u001b[39min\u001b[39;00m \u001b[39mself\u001b[39m\u001b[39m.\u001b[39m_target_list}\n",
      "\u001b[1;32m/home/jovyan/local/1_user/srlee@agilesoda.ai/TIL/PyDetectCode/jupyter/test2.ipynb 셀 21\u001b[0m in \u001b[0;36mSeperateCode.check_target_index_equal\u001b[0;34m(self)\u001b[0m\n\u001b[1;32m    <a href='vscode-notebook-cell://attached-container%2B7b22636f6e7461696e65724e616d65223a222f6a7570797465722d73726c65655f34306167696c65736f64615f32456169222c2273657474696e6773223a7b22686f7374223a227373683a2f2f43313031227d7d/home/jovyan/local/1_user/srlee%40agilesoda.ai/TIL/PyDetectCode/jupyter/test2.ipynb#Y111sdnNjb2RlLXJlbW90ZQ%3D%3D?line=108'>109</a>\u001b[0m     \u001b[39mself\u001b[39m\u001b[39m.\u001b[39mprint_pretty(check_target)\n\u001b[1;32m    <a href='vscode-notebook-cell://attached-container%2B7b22636f6e7461696e65724e616d65223a222f6a7570797465722d73726c65655f34306167696c65736f64615f32456169222c2273657474696e6773223a7b22686f7374223a227373683a2f2f43313031227d7d/home/jovyan/local/1_user/srlee%40agilesoda.ai/TIL/PyDetectCode/jupyter/test2.ipynb#Y111sdnNjb2RlLXJlbW90ZQ%3D%3D?line=109'>110</a>\u001b[0m \u001b[39mif\u001b[39;00m \u001b[39many\u001b[39m([\u001b[39mTrue\u001b[39;00m \u001b[39mfor\u001b[39;00m i \u001b[39min\u001b[39;00m \u001b[39mlist\u001b[39m(check_target\u001b[39m.\u001b[39mvalues()) \u001b[39mif\u001b[39;00m i \u001b[39m==\u001b[39m \u001b[39mFalse\u001b[39;00m]) :\n\u001b[0;32m--> <a href='vscode-notebook-cell://attached-container%2B7b22636f6e7461696e65724e616d65223a222f6a7570797465722d73726c65655f34306167696c65736f64615f32456169222c2273657474696e6773223a7b22686f7374223a227373683a2f2f43313031227d7d/home/jovyan/local/1_user/srlee%40agilesoda.ai/TIL/PyDetectCode/jupyter/test2.ipynb#Y111sdnNjb2RlLXJlbW90ZQ%3D%3D?line=110'>111</a>\u001b[0m     \u001b[39mraise\u001b[39;00m \u001b[39mException\u001b[39;00m(\u001b[39m\"\u001b[39m\u001b[39m해당 컬럼으로 분리할 수 없음\u001b[39m\u001b[39m\"\u001b[39m)\n",
      "\u001b[0;31mException\u001b[0m: 해당 컬럼으로 분리할 수 없음"
     ]
    }
   ],
   "source": [
    "\n",
    "attribute_names =  [ 'default','student', 'credit_rate']\n",
    "class_name = 'age'\n",
    "sc.initialize(df1,class_name)\n",
    "print(sc._target_idx_list)\n",
    "sc.fit(df1 , attribute_names ,class_name)\n",
    "print(sc.get_condition())\n",
    "#result = pd.DataFrame(sc.collection)\n",
    "#sc.check_target_index_equal()\n"
   ]
  },
  {
   "cell_type": "code",
   "execution_count": 419,
   "metadata": {},
   "outputs": [
    {
     "data": {
      "text/plain": [
       "{'high': [1], 'low': [], 'medium': []}"
      ]
     },
     "execution_count": 419,
     "metadata": {},
     "output_type": "execute_result"
    }
   ],
   "source": [
    "sc._target_idx_list"
   ]
  },
  {
   "cell_type": "code",
   "execution_count": 338,
   "metadata": {},
   "outputs": [
    {
     "data": {
      "text/plain": [
       "{'no': [{'student': ['no'], 'age': ['youth']},\n",
       "  {'credit_rate': ['excellent'], 'age': ['senior']}],\n",
       " 'yes': [{'student': ['yes'], 'age': ['youth']},\n",
       "  {'student': ['no', 'yes'], 'age': ['middle_age']},\n",
       "  {'credit_rate': ['fair'], 'age': ['senior']}]}"
      ]
     },
     "execution_count": 338,
     "metadata": {},
     "output_type": "execute_result"
    }
   ],
   "source": [
    "target_q = {i : [] for i in sc._target_list}\n",
    "target_q_unique_list = {i : [] for i in sc._target_list}\n",
    "target_q_unique_list_cond = {i : [] for i in sc._target_list}\n",
    "for d in sc.collection :\n",
    "    for k , v in d.items() :\n",
    "        target_q[k].append(v)\n",
    "for target , v in target_q.items() :\n",
    "    result = []\n",
    "    for i in v : \n",
    "        q = sc.make_where_query(i)\n",
    "        target_idx = df1.query(q).index.tolist()\n",
    "        if any([True for i in target_idx if i in target_q_unique_list[target] ]) :        \n",
    "            continue \n",
    "        else :    \n",
    "            target_q_unique_list_cond[target].append(i)\n",
    "            target_q_unique_list[target].extend(target_idx)    \n"
   ]
  },
  {
   "cell_type": "code",
   "execution_count": 340,
   "metadata": {},
   "outputs": [
    {
     "name": "stdout",
     "output_type": "stream",
     "text": [
      "[0, 1, 7]\n",
      "[5, 13]\n",
      "[8, 10]\n",
      "[2, 6, 11, 12]\n",
      "[3, 4, 9]\n"
     ]
    }
   ],
   "source": [
    "for i in target_q_unique_list_cond[\"no\"] : \n",
    "    q = sc.make_where_query(i)\n",
    "    target_idx = df1.query(q).index.tolist()\n",
    "    print(target_idx)\n",
    "for i in target_q_unique_list_cond[\"yes\"] : \n",
    "    q = sc.make_where_query(i)\n",
    "    target_idx = df1.query(q).index.tolist()\n",
    "    print(target_idx)"
   ]
  },
  {
   "cell_type": "code",
   "execution_count": 316,
   "metadata": {},
   "outputs": [
    {
     "name": "stdout",
     "output_type": "stream",
     "text": [
      "[0, 1, 7]\n",
      "[5, 13]\n"
     ]
    }
   ],
   "source": [
    "for i in pd.DataFrame(sc.collection)[\"no\"].dropna() :\n",
    "    q = sc.make_where_query(i)\n",
    "    print(df1.query(q).index.tolist())"
   ]
  },
  {
   "cell_type": "code",
   "execution_count": 319,
   "metadata": {},
   "outputs": [
    {
     "data": {
      "text/html": [
       "<div>\n",
       "<style scoped>\n",
       "    .dataframe tbody tr th:only-of-type {\n",
       "        vertical-align: middle;\n",
       "    }\n",
       "\n",
       "    .dataframe tbody tr th {\n",
       "        vertical-align: top;\n",
       "    }\n",
       "\n",
       "    .dataframe thead th {\n",
       "        text-align: right;\n",
       "    }\n",
       "</style>\n",
       "<table border=\"1\" class=\"dataframe\">\n",
       "  <thead>\n",
       "    <tr style=\"text-align: right;\">\n",
       "      <th></th>\n",
       "      <th>no</th>\n",
       "      <th>yes</th>\n",
       "    </tr>\n",
       "  </thead>\n",
       "  <tbody>\n",
       "    <tr>\n",
       "      <th>0</th>\n",
       "      <td>{'student': ['no'], 'age': ['youth']}</td>\n",
       "      <td>{'student': ['yes'], 'age': ['youth']}</td>\n",
       "    </tr>\n",
       "    <tr>\n",
       "      <th>1</th>\n",
       "      <td>NaN</td>\n",
       "      <td>{'student': ['no', 'yes'], 'age': ['middle_age']}</td>\n",
       "    </tr>\n",
       "    <tr>\n",
       "      <th>2</th>\n",
       "      <td>NaN</td>\n",
       "      <td>{'credit_rate': ['fair', 'excellent'], 'age': ...</td>\n",
       "    </tr>\n",
       "    <tr>\n",
       "      <th>3</th>\n",
       "      <td>NaN</td>\n",
       "      <td>{'income': ['high', 'low', 'medium'], 'age': [...</td>\n",
       "    </tr>\n",
       "    <tr>\n",
       "      <th>4</th>\n",
       "      <td>{'credit_rate': ['excellent'], 'age': ['senior']}</td>\n",
       "      <td>{'credit_rate': ['fair'], 'age': ['senior']}</td>\n",
       "    </tr>\n",
       "  </tbody>\n",
       "</table>\n",
       "</div>"
      ],
      "text/plain": [
       "                                                  no  \\\n",
       "0              {'student': ['no'], 'age': ['youth']}   \n",
       "1                                                NaN   \n",
       "2                                                NaN   \n",
       "3                                                NaN   \n",
       "4  {'credit_rate': ['excellent'], 'age': ['senior']}   \n",
       "\n",
       "                                                 yes  \n",
       "0             {'student': ['yes'], 'age': ['youth']}  \n",
       "1  {'student': ['no', 'yes'], 'age': ['middle_age']}  \n",
       "2  {'credit_rate': ['fair', 'excellent'], 'age': ...  \n",
       "3  {'income': ['high', 'low', 'medium'], 'age': [...  \n",
       "4       {'credit_rate': ['fair'], 'age': ['senior']}  "
      ]
     },
     "execution_count": 319,
     "metadata": {},
     "output_type": "execute_result"
    }
   ],
   "source": [
    "pd.DataFrame(sc.collection)"
   ]
  },
  {
   "cell_type": "code",
   "execution_count": 317,
   "metadata": {},
   "outputs": [
    {
     "data": {
      "text/plain": [
       "[{'no': {'student': ['no'], 'age': ['youth']},\n",
       "  'yes': {'student': ['yes'], 'age': ['youth']}},\n",
       " {'yes': {'student': ['no', 'yes'], 'age': ['middle_age']}},\n",
       " {'yes': {'credit_rate': ['fair', 'excellent'], 'age': ['middle_age']}},\n",
       " {'yes': {'income': ['high', 'low', 'medium'], 'age': ['middle_age']}},\n",
       " {'no': {'credit_rate': ['excellent'], 'age': ['senior']},\n",
       "  'yes': {'credit_rate': ['fair'], 'age': ['senior']}}]"
      ]
     },
     "execution_count": 317,
     "metadata": {},
     "output_type": "execute_result"
    }
   ],
   "source": [
    "sc.collection"
   ]
  },
  {
   "cell_type": "code",
   "execution_count": 225,
   "metadata": {},
   "outputs": [
    {
     "name": "stdout",
     "output_type": "stream",
     "text": [
      "[8, 10]\n",
      "[2, 6, 11, 12]\n",
      "[2, 6, 11, 12]\n",
      "[2, 6, 11, 12]\n",
      "[3, 4, 9]\n"
     ]
    }
   ],
   "source": [
    "\n",
    "for  i in result[\"yes\"] :\n",
    "    total_q = []\n",
    "    for k , v in i.items() :\n",
    "        if len(v) == 1 :\n",
    "            q = f\"{k} == '{v[0]}'\" \n",
    "        else :\n",
    "            _comb = list(v)\n",
    "            q = f\"{k} in {_comb}\"\n",
    "        total_q.append(q)\n",
    "    else :\n",
    "        total_q = \" and \".join([f\"({i})\" for i in total_q])\n",
    "        #print(total_q)\n",
    "        print(df1.query(total_q).index.tolist())"
   ]
  },
  {
   "cell_type": "code",
   "execution_count": 230,
   "metadata": {},
   "outputs": [
    {
     "data": {
      "text/plain": [
       "{'no': [0, 1, 5, 7, 13], 'yes': [2, 3, 4, 6, 8, 9, 10, 11, 12]}"
      ]
     },
     "execution_count": 230,
     "metadata": {},
     "output_type": "execute_result"
    }
   ],
   "source": [
    "df1.groupby([\"default\"]).apply(lambda x : x.index.tolist()).to_dict()"
   ]
  },
  {
   "cell_type": "code",
   "execution_count": null,
   "metadata": {},
   "outputs": [],
   "source": [
    "\n",
    "df1.query(\"default == 'yes'\").index.tolist()"
   ]
  },
  {
   "cell_type": "code",
   "execution_count": 201,
   "metadata": {},
   "outputs": [
    {
     "data": {
      "text/html": [
       "<div>\n",
       "<style scoped>\n",
       "    .dataframe tbody tr th:only-of-type {\n",
       "        vertical-align: middle;\n",
       "    }\n",
       "\n",
       "    .dataframe tbody tr th {\n",
       "        vertical-align: top;\n",
       "    }\n",
       "\n",
       "    .dataframe thead th {\n",
       "        text-align: right;\n",
       "    }\n",
       "</style>\n",
       "<table border=\"1\" class=\"dataframe\">\n",
       "  <thead>\n",
       "    <tr style=\"text-align: right;\">\n",
       "      <th></th>\n",
       "      <th>age</th>\n",
       "      <th>income</th>\n",
       "      <th>student</th>\n",
       "      <th>credit_rate</th>\n",
       "      <th>default</th>\n",
       "    </tr>\n",
       "  </thead>\n",
       "  <tbody>\n",
       "    <tr>\n",
       "      <th>5</th>\n",
       "      <td>senior</td>\n",
       "      <td>low</td>\n",
       "      <td>yes</td>\n",
       "      <td>excellent</td>\n",
       "      <td>no</td>\n",
       "    </tr>\n",
       "    <tr>\n",
       "      <th>13</th>\n",
       "      <td>senior</td>\n",
       "      <td>medium</td>\n",
       "      <td>no</td>\n",
       "      <td>excellent</td>\n",
       "      <td>no</td>\n",
       "    </tr>\n",
       "  </tbody>\n",
       "</table>\n",
       "</div>"
      ],
      "text/plain": [
       "       age  income student credit_rate default\n",
       "5   senior     low     yes   excellent      no\n",
       "13  senior  medium      no   excellent      no"
      ]
     },
     "execution_count": 201,
     "metadata": {},
     "output_type": "execute_result"
    }
   ],
   "source": [
    "df1.query(\"(credit_rate =='excellent') & (age == 'senior')\")"
   ]
  },
  {
   "cell_type": "code",
   "execution_count": 200,
   "metadata": {},
   "outputs": [
    {
     "data": {
      "text/html": [
       "<div>\n",
       "<style scoped>\n",
       "    .dataframe tbody tr th:only-of-type {\n",
       "        vertical-align: middle;\n",
       "    }\n",
       "\n",
       "    .dataframe tbody tr th {\n",
       "        vertical-align: top;\n",
       "    }\n",
       "\n",
       "    .dataframe thead th {\n",
       "        text-align: right;\n",
       "    }\n",
       "</style>\n",
       "<table border=\"1\" class=\"dataframe\">\n",
       "  <thead>\n",
       "    <tr style=\"text-align: right;\">\n",
       "      <th></th>\n",
       "      <th>age</th>\n",
       "      <th>income</th>\n",
       "      <th>student</th>\n",
       "      <th>credit_rate</th>\n",
       "      <th>default</th>\n",
       "    </tr>\n",
       "  </thead>\n",
       "  <tbody>\n",
       "    <tr>\n",
       "      <th>0</th>\n",
       "      <td>youth</td>\n",
       "      <td>high</td>\n",
       "      <td>no</td>\n",
       "      <td>fair</td>\n",
       "      <td>no</td>\n",
       "    </tr>\n",
       "    <tr>\n",
       "      <th>1</th>\n",
       "      <td>youth</td>\n",
       "      <td>high</td>\n",
       "      <td>no</td>\n",
       "      <td>excellent</td>\n",
       "      <td>no</td>\n",
       "    </tr>\n",
       "    <tr>\n",
       "      <th>5</th>\n",
       "      <td>senior</td>\n",
       "      <td>low</td>\n",
       "      <td>yes</td>\n",
       "      <td>excellent</td>\n",
       "      <td>no</td>\n",
       "    </tr>\n",
       "    <tr>\n",
       "      <th>7</th>\n",
       "      <td>youth</td>\n",
       "      <td>medium</td>\n",
       "      <td>no</td>\n",
       "      <td>fair</td>\n",
       "      <td>no</td>\n",
       "    </tr>\n",
       "    <tr>\n",
       "      <th>13</th>\n",
       "      <td>senior</td>\n",
       "      <td>medium</td>\n",
       "      <td>no</td>\n",
       "      <td>excellent</td>\n",
       "      <td>no</td>\n",
       "    </tr>\n",
       "  </tbody>\n",
       "</table>\n",
       "</div>"
      ],
      "text/plain": [
       "       age  income student credit_rate default\n",
       "0    youth    high      no        fair      no\n",
       "1    youth    high      no   excellent      no\n",
       "5   senior     low     yes   excellent      no\n",
       "7    youth  medium      no        fair      no\n",
       "13  senior  medium      no   excellent      no"
      ]
     },
     "execution_count": 200,
     "metadata": {},
     "output_type": "execute_result"
    }
   ],
   "source": [
    "df1.query(\"default == 'no'\")"
   ]
  },
  {
   "cell_type": "code",
   "execution_count": 166,
   "metadata": {},
   "outputs": [
    {
     "data": {
      "text/plain": [
       "['A', 'C', 'B']"
      ]
     },
     "execution_count": 166,
     "metadata": {},
     "output_type": "execute_result"
    }
   ],
   "source": [
    "select_candidate = list(comb[select_col].unique())\n",
    "select_candidate"
   ]
  },
  {
   "cell_type": "code",
   "execution_count": 145,
   "metadata": {},
   "outputs": [
    {
     "name": "stdout",
     "output_type": "stream",
     "text": [
      "cola == 'A'\n"
     ]
    },
    {
     "data": {
      "text/html": [
       "<div>\n",
       "<style scoped>\n",
       "    .dataframe tbody tr th:only-of-type {\n",
       "        vertical-align: middle;\n",
       "    }\n",
       "\n",
       "    .dataframe tbody tr th {\n",
       "        vertical-align: top;\n",
       "    }\n",
       "\n",
       "    .dataframe thead th {\n",
       "        text-align: right;\n",
       "    }\n",
       "</style>\n",
       "<table border=\"1\" class=\"dataframe\">\n",
       "  <thead>\n",
       "    <tr style=\"text-align: right;\">\n",
       "      <th></th>\n",
       "      <th>cola</th>\n",
       "      <th>colb</th>\n",
       "      <th>colc</th>\n",
       "      <th>target</th>\n",
       "    </tr>\n",
       "  </thead>\n",
       "  <tbody>\n",
       "    <tr>\n",
       "      <th>0</th>\n",
       "      <td>A</td>\n",
       "      <td>1</td>\n",
       "      <td>a</td>\n",
       "      <td>aa</td>\n",
       "    </tr>\n",
       "    <tr>\n",
       "      <th>1</th>\n",
       "      <td>A</td>\n",
       "      <td>1</td>\n",
       "      <td>c</td>\n",
       "      <td>aa</td>\n",
       "    </tr>\n",
       "    <tr>\n",
       "      <th>2</th>\n",
       "      <td>A</td>\n",
       "      <td>2</td>\n",
       "      <td>a</td>\n",
       "      <td>aa</td>\n",
       "    </tr>\n",
       "    <tr>\n",
       "      <th>3</th>\n",
       "      <td>A</td>\n",
       "      <td>2</td>\n",
       "      <td>c</td>\n",
       "      <td>aa</td>\n",
       "    </tr>\n",
       "    <tr>\n",
       "      <th>4</th>\n",
       "      <td>A</td>\n",
       "      <td>3</td>\n",
       "      <td>a</td>\n",
       "      <td>aa</td>\n",
       "    </tr>\n",
       "    <tr>\n",
       "      <th>5</th>\n",
       "      <td>A</td>\n",
       "      <td>3</td>\n",
       "      <td>c</td>\n",
       "      <td>aa</td>\n",
       "    </tr>\n",
       "    <tr>\n",
       "      <th>6</th>\n",
       "      <td>A</td>\n",
       "      <td>2</td>\n",
       "      <td>b</td>\n",
       "      <td>bb</td>\n",
       "    </tr>\n",
       "    <tr>\n",
       "      <th>7</th>\n",
       "      <td>A</td>\n",
       "      <td>2</td>\n",
       "      <td>d</td>\n",
       "      <td>bb</td>\n",
       "    </tr>\n",
       "    <tr>\n",
       "      <th>8</th>\n",
       "      <td>A</td>\n",
       "      <td>3</td>\n",
       "      <td>b</td>\n",
       "      <td>bb</td>\n",
       "    </tr>\n",
       "    <tr>\n",
       "      <th>9</th>\n",
       "      <td>A</td>\n",
       "      <td>3</td>\n",
       "      <td>d</td>\n",
       "      <td>bb</td>\n",
       "    </tr>\n",
       "    <tr>\n",
       "      <th>10</th>\n",
       "      <td>A</td>\n",
       "      <td>4</td>\n",
       "      <td>b</td>\n",
       "      <td>bb</td>\n",
       "    </tr>\n",
       "    <tr>\n",
       "      <th>11</th>\n",
       "      <td>A</td>\n",
       "      <td>4</td>\n",
       "      <td>d</td>\n",
       "      <td>bb</td>\n",
       "    </tr>\n",
       "    <tr>\n",
       "      <th>12</th>\n",
       "      <td>A</td>\n",
       "      <td>5</td>\n",
       "      <td>b</td>\n",
       "      <td>bb</td>\n",
       "    </tr>\n",
       "    <tr>\n",
       "      <th>13</th>\n",
       "      <td>A</td>\n",
       "      <td>5</td>\n",
       "      <td>d</td>\n",
       "      <td>bb</td>\n",
       "    </tr>\n",
       "  </tbody>\n",
       "</table>\n",
       "</div>"
      ],
      "text/plain": [
       "   cola  colb colc target\n",
       "0     A     1    a     aa\n",
       "1     A     1    c     aa\n",
       "2     A     2    a     aa\n",
       "3     A     2    c     aa\n",
       "4     A     3    a     aa\n",
       "5     A     3    c     aa\n",
       "6     A     2    b     bb\n",
       "7     A     2    d     bb\n",
       "8     A     3    b     bb\n",
       "9     A     3    d     bb\n",
       "10    A     4    b     bb\n",
       "11    A     4    d     bb\n",
       "12    A     5    b     bb\n",
       "13    A     5    d     bb"
      ]
     },
     "execution_count": 145,
     "metadata": {},
     "output_type": "execute_result"
    }
   ],
   "source": [
    "qs = [f\"{select_col} == '{i}'\" for i in select_candidate]\n",
    "print(qs[0])\n",
    "comb2 = comb.query(qs[0])\n",
    "comb2"
   ]
  },
  {
   "cell_type": "code",
   "execution_count": 148,
   "metadata": {},
   "outputs": [
    {
     "name": "stdout",
     "output_type": "stream",
     "text": [
      "{'colb': 0.2857142857142857, 'colc': 0.0}\n",
      "colc\n"
     ]
    }
   ],
   "source": [
    "cols = [\"colb\",\"colc\"]\n",
    "result = make_gini_attributes(comb2 , cols =cols,target_col=target_col)\n",
    "print(result)\n",
    "select_col = get_min_giniattributes(result)[0]\n",
    "print(select_col)"
   ]
  },
  {
   "cell_type": "code",
   "execution_count": 149,
   "metadata": {},
   "outputs": [
    {
     "data": {
      "text/plain": [
       "['a', 'c', 'b', 'd']"
      ]
     },
     "execution_count": 149,
     "metadata": {},
     "output_type": "execute_result"
    }
   ],
   "source": [
    "select_candidate = list(comb2[select_col].unique())\n",
    "select_candidate"
   ]
  },
  {
   "cell_type": "code",
   "execution_count": 150,
   "metadata": {},
   "outputs": [
    {
     "name": "stdout",
     "output_type": "stream",
     "text": [
      "cola == 'A'\n"
     ]
    },
    {
     "data": {
      "text/plain": [
       "target\n",
       "aa    [a, c]\n",
       "bb    [b, d]\n",
       "dtype: object"
      ]
     },
     "execution_count": 150,
     "metadata": {},
     "output_type": "execute_result"
    }
   ],
   "source": [
    "print(qs[0])\n",
    "comb.query(qs[0]).groupby([\"target\"]).apply(lambda x : list(x[\"colc\"].unique()))\n"
   ]
  },
  {
   "cell_type": "code",
   "execution_count": 151,
   "metadata": {},
   "outputs": [],
   "source": [
    "target_aa = dict(cola=[\"A\"],colc=[\"a\",\"c\"])\n",
    "target_bb =dict(cola=[\"A\"],colc=[\"b\",\"d\"])"
   ]
  },
  {
   "cell_type": "code",
   "execution_count": 157,
   "metadata": {},
   "outputs": [
    {
     "name": "stdout",
     "output_type": "stream",
     "text": [
      "cola == 'C'\n",
      "{'colb': 0.0, 'colc': 0.0}\n",
      "colb\n"
     ]
    }
   ],
   "source": [
    "print(qs[1])\n",
    "comb2 = comb.query(qs[1])\n",
    "comb2\n",
    "cols = [\"colb\",\"colc\"]\n",
    "result = make_gini_attributes(comb2 , cols =cols,target_col=target_col)\n",
    "print(result)\n",
    "select_col = get_min_giniattributes(result)[0]\n",
    "print(select_col)\n"
   ]
  },
  {
   "cell_type": "code",
   "execution_count": 158,
   "metadata": {},
   "outputs": [
    {
     "name": "stdout",
     "output_type": "stream",
     "text": [
      "cola == 'C'\n"
     ]
    },
    {
     "data": {
      "text/plain": [
       "target\n",
       "cc    [a, b]\n",
       "dtype: object"
      ]
     },
     "execution_count": 158,
     "metadata": {},
     "output_type": "execute_result"
    }
   ],
   "source": [
    "print(qs[1])\n",
    "comb.query(qs[1]).groupby([\"target\"]).apply(lambda x : list(x[\"colc\"].unique()))"
   ]
  },
  {
   "cell_type": "code",
   "execution_count": 159,
   "metadata": {},
   "outputs": [
    {
     "name": "stdout",
     "output_type": "stream",
     "text": [
      "cola == 'C'\n"
     ]
    },
    {
     "data": {
      "text/plain": [
       "target\n",
       "cc    [1, 4]\n",
       "dtype: object"
      ]
     },
     "execution_count": 159,
     "metadata": {},
     "output_type": "execute_result"
    }
   ],
   "source": [
    "print(qs[1])\n",
    "comb.query(qs[1]).groupby([\"target\"]).apply(lambda x : list(x[\"colb\"].unique()))\n"
   ]
  },
  {
   "cell_type": "code",
   "execution_count": 160,
   "metadata": {},
   "outputs": [],
   "source": [
    "\n",
    "target_aa = dict(cola=[\"A\"],colc=[\"a\",\"c\"])\n",
    "target_bb = dict(cola=[\"A\"],colc=[\"b\",\"d\"])\n",
    "target_cc = dict(cola=[\"C\"],colc=[\"a\",\"b\"])\n",
    "target_cc = dict(cola=[\"C\"],colb=[1,4])\n"
   ]
  },
  {
   "cell_type": "code",
   "execution_count": 161,
   "metadata": {},
   "outputs": [
    {
     "name": "stdout",
     "output_type": "stream",
     "text": [
      "cola == 'B'\n",
      "{'colb': 0.5, 'colc': 0.0}\n",
      "colc\n"
     ]
    }
   ],
   "source": [
    "print(qs[2])\n",
    "comb2 = comb.query(qs[2])\n",
    "cols = [\"colb\",\"colc\"]\n",
    "result = make_gini_attributes(comb2 , cols =cols,target_col=target_col)\n",
    "print(result)\n",
    "select_col = get_min_giniattributes(result)[0]\n",
    "print(select_col)\n"
   ]
  },
  {
   "cell_type": "code",
   "execution_count": 162,
   "metadata": {},
   "outputs": [
    {
     "name": "stdout",
     "output_type": "stream",
     "text": [
      "cola == 'B'\n"
     ]
    },
    {
     "data": {
      "text/plain": [
       "target\n",
       "dd    [e, b]\n",
       "ee    [a, d]\n",
       "dtype: object"
      ]
     },
     "execution_count": 162,
     "metadata": {},
     "output_type": "execute_result"
    }
   ],
   "source": [
    "print(qs[2])\n",
    "comb.query(qs[2]).groupby([\"target\"]).apply(lambda x : list(x[\"colc\"].unique()))"
   ]
  },
  {
   "cell_type": "code",
   "execution_count": 163,
   "metadata": {},
   "outputs": [],
   "source": [
    "# print(qs[2])\n",
    "# comb.query(qs[2]).groupby([\"target\"]).apply(lambda x : list(x[\"colc\"].unique()))\n"
   ]
  },
  {
   "cell_type": "code",
   "execution_count": 164,
   "metadata": {},
   "outputs": [],
   "source": [
    "target_aa = dict(cola=[\"A\"],colc=[\"a\",\"c\"])\n",
    "target_bb = dict(cola=[\"A\"],colc=[\"b\",\"d\"])\n",
    "target_cc = dict(cola=[\"C\"],colc=[\"a\",\"b\"])\n",
    "target_cc = dict(cola=[\"C\"],colb=[1,4])\n",
    "target_dd = dict(cola=[\"B\"],colb=[1,2])\n",
    "target_dd = dict(cola=[\"B\"],colc=[\"e\",\"b\"])\n",
    "target_ee = dict(cola=[\"B\"],colc=[\"a\",\"d\"])"
   ]
  },
  {
   "cell_type": "code",
   "execution_count": 138,
   "metadata": {},
   "outputs": [],
   "source": [
    "ASET = dict(\n",
    "    cola = [\"A\"],\n",
    "    colb = [1,2,3],\n",
    "    colc = [\"a\",\"c\"],\n",
    ")\n",
    "BSET = dict(\n",
    "    cola = [\"A\"],\n",
    "    colb = [2,3,4,5],\n",
    "    colc = [\"b\",\"d\"],\n",
    ")\n",
    "CSET = dict(\n",
    "    cola = [\"C\"],\n",
    "    colb = [1,4],\n",
    "    colc = [\"a\",\"b\"],\n",
    ")\n",
    "DSET = dict(\n",
    "    cola = [\"B\"],\n",
    "    colb = [1,2],\n",
    "    colc = [\"e\",\"b\"],\n",
    ")"
   ]
  },
  {
   "cell_type": "code",
   "execution_count": null,
   "metadata": {},
   "outputs": [],
   "source": []
  }
 ],
 "metadata": {
  "kernelspec": {
   "display_name": "Python 3.8.13 ('pcb')",
   "language": "python",
   "name": "python3"
  },
  "language_info": {
   "codemirror_mode": {
    "name": "ipython",
    "version": 3
   },
   "file_extension": ".py",
   "mimetype": "text/x-python",
   "name": "python",
   "nbconvert_exporter": "python",
   "pygments_lexer": "ipython3",
   "version": "3.8.13"
  },
  "orig_nbformat": 4,
  "vscode": {
   "interpreter": {
    "hash": "5f34f50f4c635105d0e2673e05a75685805757d97f0204e88410f09ffbde1044"
   }
  }
 },
 "nbformat": 4,
 "nbformat_minor": 2
}
