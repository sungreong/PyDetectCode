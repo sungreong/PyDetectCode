{
 "cells": [
  {
   "cell_type": "code",
   "execution_count": 4,
   "metadata": {},
   "outputs": [
    {
     "name": "stdout",
     "output_type": "stream",
     "text": [
      "The autoreload extension is already loaded. To reload it, use:\n",
      "  %reload_ext autoreload\n"
     ]
    }
   ],
   "source": [
    "%reset -s -f\n",
    "%load_ext autoreload\n",
    "%autoreload 2"
   ]
  },
  {
   "cell_type": "code",
   "execution_count": 5,
   "metadata": {},
   "outputs": [],
   "source": [
    "import sys \n",
    "sys.path.append(\"./../\")"
   ]
  },
  {
   "cell_type": "code",
   "execution_count": 73,
   "metadata": {},
   "outputs": [],
   "source": [
    "import pandas as pd\n",
    "toydata = dict(\n",
    "    cola=[1,1,1,1,3,2,3,5],\n",
    "    colb=[3,1,3,1,2,2,4,4],\n",
    "    colc=[3,1,3,3,2,2,4,4],\n",
    "    target=[\"a\",\"b\",\"a\",\"b\",\"c\",\"a\",\"c\",\"b\"]\n",
    ")\n",
    "toy_df = pd.DataFrame(toydata)\n"
   ]
  },
  {
   "cell_type": "code",
   "execution_count": null,
   "metadata": {},
   "outputs": [],
   "source": [
    "\n",
    "\n",
    "col = \"colb\"\n",
    "d = toy_df.groupby(['target',col]).size().reset_index(name=\"Size\")\n",
    "d_error = d[d.duplicated(subset=[col],keep=False)]\n",
    "print(d_error)\n",
    "print(d_error.groupby(['target']).apply(lambda x: 0 if x.shape[0] == 1 else min(x[\"Size\"]) / sum(x[\"Size\"])))\n",
    "# .mean())\n",
    "d_correct = d[~d.duplicated(subset=[col],keep=False)]\n",
    "d_correct.groupby(['target']).apply(lambda x : {col : x[col].tolist()})\n",
    "# "
   ]
  },
  {
   "cell_type": "code",
   "execution_count": 91,
   "metadata": {},
   "outputs": [
    {
     "name": "stdout",
     "output_type": "stream",
     "text": [
      "cola 0.25\n",
      "colb 0.25\n",
      "colc 0.41666666666666663\n"
     ]
    },
    {
     "data": {
      "text/plain": [
       "('cola', 0.25)"
      ]
     },
     "execution_count": 91,
     "metadata": {},
     "output_type": "execute_result"
    }
   ],
   "source": [
    "import numpy as np\n",
    "from collections import Counter\n",
    "from copy import deepcopy\n",
    "from src.metric import get_weighted_gini_impurity , make_gini_attributes , get_min_giniattributes\n",
    "\n",
    "\n",
    "\n",
    "for col in [\"cola\",\"colb\",\"colc\"] :\n",
    "    print(col, get_weighted_gini_impurity(df=toy_df , col=col,target_col=\"target\"))\n",
    "result = make_gini_attributes(toy_df , cols =[\"cola\",\"colb\",\"colc\"],target_col=\"target\")\n",
    "get_min_giniattributes(result)"
   ]
  },
  {
   "cell_type": "code",
   "execution_count": 7,
   "metadata": {},
   "outputs": [
    {
     "name": "stdout",
     "output_type": "stream",
     "text": [
      "  target  cola  Size\n",
      "1      a     2     1\n",
      "3      b     5     1\n",
      "4      c     3     2\n",
      "  target  cola  Size\n",
      "0      a     1     2\n",
      "1      a     2     1\n",
      "2      b     1     2\n",
      "3      b     5     1\n",
      "4      c     3     2\n"
     ]
    }
   ],
   "source": [
    "col = \"cola\"\n",
    "\n",
    "def get_metric_by_col(df , target, col) :\n",
    "    count_table = df.groupby([target,col]).size().reset_index(name=\"Size\")\n",
    "    metric = count_table[count_table.duplicated(subset=[col],keep=False)].\\\n",
    "        groupby([col]).apply(lambda x : min(x[\"Size\"]) / sum(x[\"Size\"])).\\\n",
    "            mean()\n",
    "    return metric \n",
    "get_metric_by_col(toy_df,\"target\",col=col)\n",
    "count_table = toy_df.groupby([\"target\",col]).size().reset_index(name=\"Size\")\n",
    "print(count_table[~count_table.duplicated(subset=[col],keep=False)])\n",
    "print(count_table)\n",
    "# 1,2,5 / 3 "
   ]
  },
  {
   "cell_type": "code",
   "execution_count": 72,
   "metadata": {},
   "outputs": [
    {
     "data": {
      "text/plain": [
       "0.0"
      ]
     },
     "execution_count": 72,
     "metadata": {},
     "output_type": "execute_result"
    }
   ],
   "source": [
    "count_table = toy_df.groupby([\"cola\",\"target\"]).size().reset_index(name='Size')\n",
    "metric = count_table.groupby(['cola']).apply(lambda x : min(x[\"Size\"]) / sum(x[\"Size\"])).mean()\n",
    "\n",
    "\n",
    "def get_error_table(count_table , target) :\n",
    "    return count_table.groupby([target]).apply(lambda x : 0 if x.shape[0] == 1  else min(x[\"Size\"]) / sum(x[\"Size\"])  )\n",
    "\n",
    "def get_error_rate(count_table , target) :\n",
    "\n",
    "    metric = get_error_table(count_table , target).mean()\n",
    "    return metric \n",
    "\n",
    "metric_cola = get_error_rate(count_table,target=\"target\")\n",
    "metric_cola"
   ]
  },
  {
   "cell_type": "code",
   "execution_count": 125,
   "metadata": {},
   "outputs": [
    {
     "data": {
      "text/html": [
       "<div>\n",
       "<style scoped>\n",
       "    .dataframe tbody tr th:only-of-type {\n",
       "        vertical-align: middle;\n",
       "    }\n",
       "\n",
       "    .dataframe tbody tr th {\n",
       "        vertical-align: top;\n",
       "    }\n",
       "\n",
       "    .dataframe thead th {\n",
       "        text-align: right;\n",
       "    }\n",
       "</style>\n",
       "<table border=\"1\" class=\"dataframe\">\n",
       "  <thead>\n",
       "    <tr style=\"text-align: right;\">\n",
       "      <th></th>\n",
       "      <th>colc</th>\n",
       "      <th>target</th>\n",
       "      <th>Size</th>\n",
       "    </tr>\n",
       "  </thead>\n",
       "  <tbody>\n",
       "    <tr>\n",
       "      <th>0</th>\n",
       "      <td>1</td>\n",
       "      <td>b</td>\n",
       "      <td>1</td>\n",
       "    </tr>\n",
       "    <tr>\n",
       "      <th>1</th>\n",
       "      <td>2</td>\n",
       "      <td>c</td>\n",
       "      <td>1</td>\n",
       "    </tr>\n",
       "    <tr>\n",
       "      <th>2</th>\n",
       "      <td>2</td>\n",
       "      <td>d</td>\n",
       "      <td>1</td>\n",
       "    </tr>\n",
       "    <tr>\n",
       "      <th>3</th>\n",
       "      <td>3</td>\n",
       "      <td>a</td>\n",
       "      <td>2</td>\n",
       "    </tr>\n",
       "    <tr>\n",
       "      <th>4</th>\n",
       "      <td>3</td>\n",
       "      <td>b</td>\n",
       "      <td>1</td>\n",
       "    </tr>\n",
       "    <tr>\n",
       "      <th>5</th>\n",
       "      <td>4</td>\n",
       "      <td>c</td>\n",
       "      <td>1</td>\n",
       "    </tr>\n",
       "    <tr>\n",
       "      <th>6</th>\n",
       "      <td>4</td>\n",
       "      <td>d</td>\n",
       "      <td>1</td>\n",
       "    </tr>\n",
       "  </tbody>\n",
       "</table>\n",
       "</div>"
      ],
      "text/plain": [
       "   colc target  Size\n",
       "0     1      b     1\n",
       "1     2      c     1\n",
       "2     2      d     1\n",
       "3     3      a     2\n",
       "4     3      b     1\n",
       "5     4      c     1\n",
       "6     4      d     1"
      ]
     },
     "execution_count": 125,
     "metadata": {},
     "output_type": "execute_result"
    }
   ],
   "source": [
    "toy_df.groupby([\"colb\",\"target\"]).size()\n",
    "count_table = toy_df.groupby([\"colb\",\"target\"]).size().reset_index(name='Size')\n",
    "\n",
    "def make_count_table(df , target , by) :\n",
    "    count_table = df.groupby([by,target]).size().reset_index(name='Size')\n",
    "    return count_table \n",
    "\n",
    "def get_metric(df , target ,col) :\n",
    "    count_table = make_count_table(df , target , col )\n",
    "    metric = get_error_rate(count_table,target=col)\n",
    "    return metric  \n",
    "\n",
    "\n",
    "\n",
    "count_table = make_count_table(toy_df , \"target\",\"colc\")\n",
    "metric_colb = get_error_rate(count_table,target=\"colc\")\n",
    "metric_colb\n",
    "count_table"
   ]
  },
  {
   "cell_type": "code",
   "execution_count": 126,
   "metadata": {},
   "outputs": [
    {
     "name": "stdout",
     "output_type": "stream",
     "text": [
      "{'cola': 0.16666666666666666, 'colb': 0.25, 'colc': 0.3333333333333333}\n"
     ]
    }
   ],
   "source": [
    "metric_result = {}\n",
    "for i in [\"cola\",\"colb\",\"colc\"] :\n",
    "    metric_result[i] = get_metric(toy_df , \"target\",i)\n",
    "else :\n",
    "    print(metric_result)"
   ]
  },
  {
   "cell_type": "code",
   "execution_count": 127,
   "metadata": {},
   "outputs": [
    {
     "data": {
      "text/plain": [
       "'cola'"
      ]
     },
     "execution_count": 127,
     "metadata": {},
     "output_type": "execute_result"
    }
   ],
   "source": [
    "def get_min_col(metric_result) :\n",
    "    return min(metric_result.items(), key=lambda x: x[1]) [0]\n",
    "get_min_col(metric_result)\n"
   ]
  },
  {
   "cell_type": "code",
   "execution_count": 134,
   "metadata": {},
   "outputs": [
    {
     "name": "stdout",
     "output_type": "stream",
     "text": [
      "finish cola [2, 3]\n",
      "non finish cola [1]\n",
      "{'colb': 0.0, 'colc': 0.16666666666666666}\n"
     ]
    }
   ],
   "source": [
    "\n",
    "count_table = make_count_table(toy_df , \"target\",\"cola\")\n",
    "result = get_error_table(count_table=count_table,target=\"cola\")\n",
    "finish_pattern = result[result==0].index.tolist()\n",
    "print(\"finish\", \"cola\", finish_pattern)\n",
    "non_finish_pattern = result[result!=0].index.tolist()\n",
    "print(\"non finish\", \"cola\", non_finish_pattern)\n",
    "toy_df2 = toy_df[toy_df.cola.isin(non_finish_pattern)]\n",
    "\n",
    "metric_result = {}\n",
    "for i in [\"colb\",\"colc\"] :\n",
    "    metric_result[i] = get_metric(toy_df2 , \"target\",i)\n",
    "else :\n",
    "    print(metric_result)"
   ]
  },
  {
   "cell_type": "code",
   "execution_count": 130,
   "metadata": {},
   "outputs": [
    {
     "data": {
      "text/plain": [
       "colb\n",
       "1    0\n",
       "3    0\n",
       "dtype: int64"
      ]
     },
     "execution_count": 130,
     "metadata": {},
     "output_type": "execute_result"
    }
   ],
   "source": [
    "\n",
    "count_table = make_count_table(toy_df2 , target=\"target\",by=\"colb\")\n",
    "result = get_error_table(count_table=count_table,target=\"colb\")\n",
    "result"
   ]
  },
  {
   "cell_type": "code",
   "execution_count": 132,
   "metadata": {},
   "outputs": [
    {
     "data": {
      "text/html": [
       "<div>\n",
       "<style scoped>\n",
       "    .dataframe tbody tr th:only-of-type {\n",
       "        vertical-align: middle;\n",
       "    }\n",
       "\n",
       "    .dataframe tbody tr th {\n",
       "        vertical-align: top;\n",
       "    }\n",
       "\n",
       "    .dataframe thead th {\n",
       "        text-align: right;\n",
       "    }\n",
       "</style>\n",
       "<table border=\"1\" class=\"dataframe\">\n",
       "  <thead>\n",
       "    <tr style=\"text-align: right;\">\n",
       "      <th></th>\n",
       "      <th>cola</th>\n",
       "      <th>colb</th>\n",
       "      <th>colc</th>\n",
       "      <th>target</th>\n",
       "    </tr>\n",
       "  </thead>\n",
       "  <tbody>\n",
       "  </tbody>\n",
       "</table>\n",
       "</div>"
      ],
      "text/plain": [
       "Empty DataFrame\n",
       "Columns: [cola, colb, colc, target]\n",
       "Index: []"
      ]
     },
     "execution_count": 132,
     "metadata": {},
     "output_type": "execute_result"
    }
   ],
   "source": [
    "finish_pattern = result[result==0].index.tolist()\n",
    "non_finish_pattern = result[result!=0].index.tolist()\n",
    "toy_df3 = toy_df2[toy_df2.colb.isin(non_finish_pattern)]\n",
    "toy_df3"
   ]
  },
  {
   "cell_type": "code",
   "execution_count": 115,
   "metadata": {},
   "outputs": [
    {
     "data": {
      "text/html": [
       "<div>\n",
       "<style scoped>\n",
       "    .dataframe tbody tr th:only-of-type {\n",
       "        vertical-align: middle;\n",
       "    }\n",
       "\n",
       "    .dataframe tbody tr th {\n",
       "        vertical-align: top;\n",
       "    }\n",
       "\n",
       "    .dataframe thead th {\n",
       "        text-align: right;\n",
       "    }\n",
       "</style>\n",
       "<table border=\"1\" class=\"dataframe\">\n",
       "  <thead>\n",
       "    <tr style=\"text-align: right;\">\n",
       "      <th></th>\n",
       "      <th>colb</th>\n",
       "      <th>target</th>\n",
       "      <th>Size</th>\n",
       "    </tr>\n",
       "  </thead>\n",
       "  <tbody>\n",
       "    <tr>\n",
       "      <th>0</th>\n",
       "      <td>1</td>\n",
       "      <td>b</td>\n",
       "      <td>2</td>\n",
       "    </tr>\n",
       "    <tr>\n",
       "      <th>1</th>\n",
       "      <td>3</td>\n",
       "      <td>a</td>\n",
       "      <td>2</td>\n",
       "    </tr>\n",
       "  </tbody>\n",
       "</table>\n",
       "</div>"
      ],
      "text/plain": [
       "   colb target  Size\n",
       "0     1      b     2\n",
       "1     3      a     2"
      ]
     },
     "execution_count": 115,
     "metadata": {},
     "output_type": "execute_result"
    }
   ],
   "source": [
    "toy_df2.groupby(['colb','target']).size().reset_index(name='Size')"
   ]
  },
  {
   "cell_type": "code",
   "execution_count": null,
   "metadata": {},
   "outputs": [],
   "source": [
    "\n",
    "toy_df2"
   ]
  },
  {
   "cell_type": "code",
   "execution_count": null,
   "metadata": {},
   "outputs": [],
   "source": [
    "\n",
    "count_table = make_count_table(toy_df2 , \"target\",\"colb\")\n",
    "get_error_table(count_table=count_table,target=\"colb\")\n",
    "toy_df2"
   ]
  },
  {
   "cell_type": "code",
   "execution_count": 102,
   "metadata": {},
   "outputs": [
    {
     "data": {
      "text/html": [
       "<div>\n",
       "<style scoped>\n",
       "    .dataframe tbody tr th:only-of-type {\n",
       "        vertical-align: middle;\n",
       "    }\n",
       "\n",
       "    .dataframe tbody tr th {\n",
       "        vertical-align: top;\n",
       "    }\n",
       "\n",
       "    .dataframe thead th {\n",
       "        text-align: right;\n",
       "    }\n",
       "</style>\n",
       "<table border=\"1\" class=\"dataframe\">\n",
       "  <thead>\n",
       "    <tr style=\"text-align: right;\">\n",
       "      <th></th>\n",
       "      <th>colb</th>\n",
       "      <th>target</th>\n",
       "      <th>Size</th>\n",
       "    </tr>\n",
       "  </thead>\n",
       "  <tbody>\n",
       "    <tr>\n",
       "      <th>0</th>\n",
       "      <td>1</td>\n",
       "      <td>b</td>\n",
       "      <td>2</td>\n",
       "    </tr>\n",
       "    <tr>\n",
       "      <th>1</th>\n",
       "      <td>2</td>\n",
       "      <td>c</td>\n",
       "      <td>1</td>\n",
       "    </tr>\n",
       "    <tr>\n",
       "      <th>2</th>\n",
       "      <td>2</td>\n",
       "      <td>d</td>\n",
       "      <td>1</td>\n",
       "    </tr>\n",
       "    <tr>\n",
       "      <th>3</th>\n",
       "      <td>3</td>\n",
       "      <td>a</td>\n",
       "      <td>2</td>\n",
       "    </tr>\n",
       "    <tr>\n",
       "      <th>4</th>\n",
       "      <td>4</td>\n",
       "      <td>c</td>\n",
       "      <td>1</td>\n",
       "    </tr>\n",
       "    <tr>\n",
       "      <th>5</th>\n",
       "      <td>4</td>\n",
       "      <td>d</td>\n",
       "      <td>1</td>\n",
       "    </tr>\n",
       "  </tbody>\n",
       "</table>\n",
       "</div>"
      ],
      "text/plain": [
       "   colb target  Size\n",
       "0     1      b     2\n",
       "1     2      c     1\n",
       "2     2      d     1\n",
       "3     3      a     2\n",
       "4     4      c     1\n",
       "5     4      d     1"
      ]
     },
     "execution_count": 102,
     "metadata": {},
     "output_type": "execute_result"
    }
   ],
   "source": [
    "count_table"
   ]
  },
  {
   "cell_type": "code",
   "execution_count": 98,
   "metadata": {},
   "outputs": [
    {
     "data": {
      "text/plain": [
       "[2, 4]"
      ]
     },
     "execution_count": 98,
     "metadata": {},
     "output_type": "execute_result"
    }
   ],
   "source": [
    "non_finish_pattern"
   ]
  },
  {
   "cell_type": "code",
   "execution_count": 99,
   "metadata": {},
   "outputs": [
    {
     "data": {
      "text/plain": [
       "0    False\n",
       "1    False\n",
       "2    False\n",
       "3    False\n",
       "Name: colb, dtype: bool"
      ]
     },
     "execution_count": 99,
     "metadata": {},
     "output_type": "execute_result"
    }
   ],
   "source": [
    "toy_df2.colb.isin(non_finish_pattern)"
   ]
  }
 ],
 "metadata": {
  "kernelspec": {
   "display_name": "Python 3.8.6 ('base')",
   "language": "python",
   "name": "python3"
  },
  "language_info": {
   "codemirror_mode": {
    "name": "ipython",
    "version": 3
   },
   "file_extension": ".py",
   "mimetype": "text/x-python",
   "name": "python",
   "nbconvert_exporter": "python",
   "pygments_lexer": "ipython3",
   "version": "3.8.6"
  },
  "orig_nbformat": 4,
  "vscode": {
   "interpreter": {
    "hash": "d4d1e4263499bec80672ea0156c357c1ee493ec2b1c70f0acce89fc37c4a6abe"
   }
  }
 },
 "nbformat": 4,
 "nbformat_minor": 2
}
